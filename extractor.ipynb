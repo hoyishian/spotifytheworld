{
 "metadata": {
  "language_info": {
   "codemirror_mode": {
    "name": "ipython",
    "version": 3
   },
   "file_extension": ".py",
   "mimetype": "text/x-python",
   "name": "python",
   "nbconvert_exporter": "python",
   "pygments_lexer": "ipython3",
   "version": "3.7.4-final"
  },
  "orig_nbformat": 2,
  "kernelspec": {
   "name": "python3",
   "display_name": "Python 3",
   "language": "python"
  }
 },
 "nbformat": 4,
 "nbformat_minor": 2,
 "cells": [
  {
   "cell_type": "code",
   "execution_count": null,
   "metadata": {},
   "outputs": [],
   "source": [
    "pip install spotipy"
   ]
  },
  {
   "cell_type": "code",
   "execution_count": 5,
   "metadata": {},
   "outputs": [],
   "source": [
    "import spotipy\n",
    "import os\n",
    "import json\n",
    "from spotipy.oauth2 import SpotifyClientCredentials"
   ]
  },
  {
   "cell_type": "code",
   "execution_count": 6,
   "metadata": {},
   "outputs": [],
   "source": [
    "# Insert your own client_id and client_secret id here\n",
    "# Go to https://developer.spotify.com/documentation/web-api/quick-start/ to set up your account to get client_id and client_secret id\n",
    "client_id = \"96850b93b5b541a0a37005bf4dc4c3e2\"\n",
    "client_secret = \"d5a78069d9c84f7a9ffc10d5d1970282\""
   ]
  },
  {
   "cell_type": "code",
   "execution_count": 7,
   "metadata": {},
   "outputs": [],
   "source": [
    "client_credentials_manager = SpotifyClientCredentials(client_id=client_id, client_secret=client_secret)\n",
    "sp = spotipy.Spotify(client_credentials_manager\n",
    "=\n",
    "client_credentials_manager)\n",
    "\n",
    "global_spotify_uri = \"spotify:playlist:37i9dQZEVXbMDoHDwVN2tF\""
   ]
  },
  {
   "source": [],
   "cell_type": "markdown",
   "metadata": {}
  },
  {
   "cell_type": "code",
   "execution_count": 15,
   "metadata": {
    "tags": []
   },
   "outputs": [],
   "source": [
    "playlist_results = sp.playlist_items(global_spotify_uri, fields=\"items.track, \", limit=50)\n",
    "playlist_results\n",
    "with open('top50_data.json', 'w', encoding='utf-8') as f:\n",
    "            json.dump(playlist_results, f, ensure_ascii=False, indent=4)"
   ]
  },
  {
   "cell_type": "code",
   "execution_count": 13,
   "metadata": {},
   "outputs": [],
   "source": [
    "new_releases = sp.new_releases(limit=50)\n",
    "new_releases\n",
    "with open('new_releases.json', 'w', encoding='utf-8') as f:\n",
    "            json.dump(new_releases, f, ensure_ascii=False, indent=4)"
   ]
  },
  {
   "cell_type": "code",
   "execution_count": 16,
   "metadata": {},
   "outputs": [],
   "source": [
    "artists = sp.artists([\"1uNFoZAHBGtllmzznpCI3s\", \"20wkVLutqVOYrc0kxFs7rA\", \"4fxd5Ee7UefO4CUXgwJ7IP\" ])\n",
    "with open('artists.json', 'w', encoding='utf-8') as f:\n",
    "            json.dump(artists, f, ensure_ascii=False, indent=4)"
   ]
  },
  {
   "cell_type": "code",
   "execution_count": 29,
   "metadata": {},
   "outputs": [
    {
     "output_type": "stream",
     "name": "stdout",
     "text": [
      "22\n22\n"
     ]
    }
   ],
   "source": [
    "# Array of all Top 50 Charts Ids\n",
    "country_array = [\"Global\", \"Argentina\", \"Australia\", \"Austria\", \"Belgium\", \"Bolivia\", \"Brazil\", \"Bulgaria\", \"Canada\", \"Chile\", \"France\", \"Germany\", \"Hong Kong\", \"Japan\", \"Mexico\", \"Singapore\", \"Korea\", \"USA\", \"South Africa\", \"Poland\", \"Malaysia\", \"Columbia\", \"Ecuador\"]\n",
    "array = [\"spotify:playlist:37i9dQZEVXbMDoHDwVN2tF\", \"spotify:playlist:37i9dQZEVXbMMy2roB9myp\", \"spotify:playlist:37i9dQZEVXbJPcfkRz0wJ0\", \"spotify:playlist:37i9dQZEVXbKNHh6NIXu36\", \"spotify:playlist:37i9dQZEVXbJNSeeHswcKB\", \"spotify:playlist:37i9dQZEVXbJqfMFK4d691\", \"spotify:playlist:37i9dQZEVXbMXbN3EUUhlg\", \"spotify:playlist:37i9dQZEVXbNfM2w2mq1B8\", \"spotify:playlist:37i9dQZEVXbKj23U1GF4IR\", \"spotify:playlist:37i9dQZEVXbL0GavIqMTeb\", \"spotify:playlist:37i9dQZEVXbIPWwFssbupI\", \"spotify:playlist:37i9dQZEVXbJiZcmkrIHGU\", \"spotify:playlist:37i9dQZEVXbLwpL8TjsxOG\", \"spotify:playlist:37i9dQZEVXbKXQ4mDTEBXq\", \"spotify:playlist:37i9dQZEVXbO3qyFxbkOE1\", \"spotify:playlist:37i9dQZEVXbK4gjvS1FjPY\", \"spotify:playlist:37i9dQZEVXbNxXF4SkHj9F\", \"spotify:playlist:37i9dQZEVXbLRQDuF5jeBp\", \"spotify:playlist:37i9dQZEVXbMH2jvi6jvjk\", \"spotify:playlist:37i9dQZEVXbN6itCcaL3Tt\", \"spotify:playlist:37i9dQZEVXbJlfUljuZExa\", \"spotify:playlist:37i9dQZEVXbOa2lmxNORXQ\", \"spotify:playlist:37i9dQZEVXbJlM6nvL1nD1\"]\n",
    "print(len(country_array))\n",
    "print(len(array))"
   ]
  },
  {
   "cell_type": "code",
   "execution_count": null,
   "metadata": {},
   "outputs": [],
   "source": []
  }
 ]
}